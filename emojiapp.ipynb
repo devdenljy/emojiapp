{
 "cells": [
  {
   "cell_type": "code",
   "execution_count": 1,
   "metadata": {
    "scrolled": false
   },
   "outputs": [],
   "source": [
    "#https://emojipedia.org/\n",
    "import emoji"
   ]
  },
  {
   "cell_type": "markdown",
   "metadata": {},
   "source": [
    "obj to get maj of disk empty sq"
   ]
  },
  {
   "cell_type": "code",
   "execution_count": 2,
   "metadata": {
    "scrolled": true
   },
   "outputs": [
    {
     "data": {
      "text/plain": [
       "'⚫'"
      ]
     },
     "metadata": {},
     "output_type": "display_data"
    },
    {
     "data": {
      "text/plain": [
       "'⚪'"
      ]
     },
     "metadata": {},
     "output_type": "display_data"
    }
   ],
   "source": [
    "b = display('⚫')\n",
    "w = display('⚪')"
   ]
  },
  {
   "cell_type": "code",
   "execution_count": 3,
   "metadata": {
    "scrolled": true
   },
   "outputs": [
    {
     "data": {
      "text/plain": [
       "'⬜⬜⬜⬜⬜⬜⬜⬜'"
      ]
     },
     "metadata": {},
     "output_type": "display_data"
    },
    {
     "data": {
      "text/plain": [
       "'⬜⬜⬜⬜⬜⬜⬜⬜'"
      ]
     },
     "metadata": {},
     "output_type": "display_data"
    },
    {
     "data": {
      "text/plain": [
       "'⬜⬜⬜⬜⬜⬜⬜⬜'"
      ]
     },
     "metadata": {},
     "output_type": "display_data"
    },
    {
     "data": {
      "text/plain": [
       "'⬜⬜⬜⚫⚪⬜⬜⬜'"
      ]
     },
     "metadata": {},
     "output_type": "display_data"
    },
    {
     "data": {
      "text/plain": [
       "'⬜⬜⬜⚪⚫⚪⬜⬜'"
      ]
     },
     "metadata": {},
     "output_type": "display_data"
    },
    {
     "data": {
      "text/plain": [
       "'⬜⬜⬜⬜⬜⬜⬜⬜'"
      ]
     },
     "metadata": {},
     "output_type": "display_data"
    },
    {
     "data": {
      "text/plain": [
       "'⬜⬜⬜⬜⬜⬜⬜⬜'"
      ]
     },
     "metadata": {},
     "output_type": "display_data"
    },
    {
     "data": {
      "text/plain": [
       "'⬜⬜⬜⬜⬜⬜⬜⬜'"
      ]
     },
     "metadata": {},
     "output_type": "display_data"
    }
   ],
   "source": [
    "display('⬜⬜⬜⬜⬜⬜⬜⬜')\n",
    "display('⬜⬜⬜⬜⬜⬜⬜⬜')\n",
    "display('⬜⬜⬜⬜⬜⬜⬜⬜')\n",
    "display('⬜⬜⬜⚫⚪⬜⬜⬜')\n",
    "display('⬜⬜⬜⚪⚫⚪⬜⬜')\n",
    "display('⬜⬜⬜⬜⬜⬜⬜⬜')\n",
    "display('⬜⬜⬜⬜⬜⬜⬜⬜')\n",
    "display('⬜⬜⬜⬜⬜⬜⬜⬜')"
   ]
  },
  {
   "cell_type": "code",
   "execution_count": 4,
   "metadata": {},
   "outputs": [
    {
     "data": {
      "text/plain": [
       "'⬜⬜⬜⬜⬜⬜⬜⬜'"
      ]
     },
     "metadata": {},
     "output_type": "display_data"
    },
    {
     "data": {
      "text/plain": [
       "'⬜⬜⬜⬜⬜⬜⬜⬜'"
      ]
     },
     "metadata": {},
     "output_type": "display_data"
    },
    {
     "data": {
      "text/plain": [
       "'⬜⬜⬜⬜⬜⬜⬜⬜'"
      ]
     },
     "metadata": {},
     "output_type": "display_data"
    },
    {
     "data": {
      "text/plain": [
       "'⬜⬜⬜⚫⚪⬜⬜⬜'"
      ]
     },
     "metadata": {},
     "output_type": "display_data"
    },
    {
     "data": {
      "text/plain": [
       "'⬜⬜⬜⚪⚪⚪⬜⬜'"
      ]
     },
     "metadata": {},
     "output_type": "display_data"
    },
    {
     "data": {
      "text/plain": [
       "'⬜⬜⬜⬜⬜⬜⬜⬜'"
      ]
     },
     "metadata": {},
     "output_type": "display_data"
    },
    {
     "data": {
      "text/plain": [
       "'⬜⬜⬜⬜⬜⬜⬜⬜'"
      ]
     },
     "metadata": {},
     "output_type": "display_data"
    },
    {
     "data": {
      "text/plain": [
       "'⬜⬜⬜⬜⬜⬜⬜⬜'"
      ]
     },
     "metadata": {},
     "output_type": "display_data"
    }
   ],
   "source": [
    "display('⬜⬜⬜⬜⬜⬜⬜⬜')\n",
    "display('⬜⬜⬜⬜⬜⬜⬜⬜')\n",
    "display('⬜⬜⬜⬜⬜⬜⬜⬜')\n",
    "display('⬜⬜⬜⚫⚪⬜⬜⬜')\n",
    "display('⬜⬜⬜⚪⚪⚪⬜⬜')\n",
    "display('⬜⬜⬜⬜⬜⬜⬜⬜')\n",
    "display('⬜⬜⬜⬜⬜⬜⬜⬜')\n",
    "display('⬜⬜⬜⬜⬜⬜⬜⬜')"
   ]
  }
 ],
 "metadata": {
  "kernelspec": {
   "display_name": "Python 3",
   "language": "python",
   "name": "python3"
  },
  "language_info": {
   "codemirror_mode": {
    "name": "ipython",
    "version": 3
   },
   "file_extension": ".py",
   "mimetype": "text/x-python",
   "name": "python",
   "nbconvert_exporter": "python",
   "pygments_lexer": "ipython3",
   "version": "3.7.6"
  }
 },
 "nbformat": 4,
 "nbformat_minor": 2
}
